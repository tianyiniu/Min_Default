{
  "cells": [
    {
      "cell_type": "markdown",
      "metadata": {
        "id": "2FT7WiBuy0Oe"
      },
      "source": [
        "## Code adapted from https://keras.io/examples/nlp/lstm_seq2seq/"
      ]
    },
    {
      "cell_type": "markdown",
      "metadata": {
        "id": "C4SwCMuX2eZw"
      },
      "source": [
        "Load the necessary packages and mount our drive:"
      ]
    },
    {
      "cell_type": "code",
      "execution_count": 1,
      "metadata": {
        "colab": {
          "base_uri": "https://localhost:8080/"
        },
        "id": "1_9TWj6GwSu6",
        "outputId": "b22fe159-ccd1-4653-cb58-0fbbef5db64e"
      },
      "outputs": [],
      "source": [
        "import os\n",
        "import numpy as np\n",
        "from os import listdir\n",
        "from pathlib import Path\n",
        "from re import sub, search\n",
        "from itertools import product\n",
        "from random import choice, shuffle\n",
        "from IPython.display import clear_output\n",
        "\n",
        "import keras\n",
        "from tensorflow.keras import backend\n",
        "\n",
        "from matplotlib.pyplot import plot, legend, show, xlabel, ylabel, title\n"
      ]
    },
    {
      "cell_type": "markdown",
      "metadata": {
        "id": "OZgmLXZT2hiR"
      },
      "source": [
        "Hyperparameters:"
      ]
    },
    {
      "cell_type": "code",
      "execution_count": 2,
      "metadata": {
        "id": "Gh5E0thLw6hU"
      },
      "outputs": [],
      "source": [
        "batch_size = 32  #Batch size for training\n",
        "epochs = 100  #Number of epochs to train for\n",
        "latent_dim = 32  #Latent dimensionality of the encoding space.\n",
        "lr = 0.0005 #Learning rate\n",
        "reps = 10 #Repetitions in each condition\n",
        "attention = False #Do you want attention in your model?\n",
        "stim_sets = [\"equalFreq\"] #Need a training file for each stim_set\n",
        "test_sets = [\"test_Mutants\", \"testNewTemplates\", \"test_L\", \"test\"] #Need a file for each of these test sets for each stim_set"
      ]
    },
    {
      "cell_type": "markdown",
      "metadata": {
        "id": "AtfmfWfv4uak"
      },
      "source": [
        "Feature systems:"
      ]
    },
    {
      "cell_type": "code",
      "execution_count": 5,
      "metadata": {
        "id": "YpGfDuhH4vgf"
      },
      "outputs": [
        {
          "name": "stdout",
          "output_type": "stream",
          "text": [
            "['cons', 'syll', 'son', 'approx', 'voice', 'cont', 'nas', 'strid', 'lab', 'cor', 'ant', 'dist', 'dor', 'high', 'back', 'tense', 'diph', 'stress', 'main']\n",
            "19\n"
          ]
        }
      ],
      "source": [
        "#inputs\n",
        "feat_file = open(\"feats.txt\", \"r\")\n",
        "feat_names = feat_file.readline().rstrip().split(\"\\t\")[1:] # Skip first space\n",
        "symbol2feats_ur = {'_': [0.0 for f in feat_names]}\n",
        "\n",
        "for line in feat_file.readlines():\n",
        "  columns = line.rstrip().split(\"\\t\")\n",
        "  seg = columns[0]\n",
        "  values = [{\"-\":-1.0, \"+\":1.0, \"0\":0.0}[v] for v in columns[1:]]\n",
        "  symbol2feats_ur[seg] = values\n",
        "\n",
        "#outputs\n",
        "feats2symbol_sr = {\n",
        "                      \"1,1\":\"Y IY0\", #yee\n",
        "                      \"1,-1\":\"W AH0\", #wuh\n",
        "                      \"-1,1\":\"L EY0\", #lay\n",
        "                      \"-1,-1\":\"?\"\n",
        "                  }\n",
        "\n",
        "print(feat_names)\n",
        "print(len(feat_names))\n",
        "\n",
        "#Note that with:\n",
        "# latent_dim = 32\n",
        "# len(symbol2feats_ur.keys()) = 15\n",
        "# Number of parameters with attention = 10754\n",
        "# Number of parameters without attention = 10690"
      ]
    },
    {
      "cell_type": "markdown",
      "metadata": {
        "id": "Alqjkj9Z3YkR"
      },
      "source": [
        "Functions for processing data and building model:"
      ]
    },
    {
      "cell_type": "code",
      "execution_count": 11,
      "metadata": {
        "id": "kkoHogTb3b7C"
      },
      "outputs": [],
      "source": [
        "def get_strings(input_fn):\n",
        "  input_file = open(\"./Equal_FrequencyCondition/\"+input_fn)\n",
        "  input_file.readline()\n",
        "  UR_strings = []\n",
        "  SR_strings = []\n",
        "  syll_lengths = []\n",
        "  ur_num = 0\n",
        "\n",
        "  for line in input_file.readlines():\n",
        "    columns = line.rstrip().split(\",\")\n",
        "    if len(columns) == 2:\n",
        "      ur, sr = columns\n",
        "      if sr == \"\" or ur == \"\":\n",
        "        continue\n",
        "      ur_num += 1\n",
        "\n",
        "      syll_lengths.append(len([seg for seg in ur.split(\" \") if seg != \"\"]))\n",
        "      UR_strings.append(ur)\n",
        "      SR_strings.append(sr[-5:]) # Last 5 characters correspond to plural suffix\n",
        "    else:\n",
        "       print(line)\n",
        "       raise Exception(\"Training data error! All lines should have 2 columns in TD files!\")\n",
        "\n",
        "  return UR_strings, SR_strings, syll_lengths\n",
        "\n",
        "def get_arrays(UR_strings, SR_strings, syll_lengths):\n",
        "  symbol2feats_sr = {}\n",
        "  for feat_bundle in feats2symbol_sr.keys():\n",
        "    these_feats = [float(f) for f in feat_bundle.split(\",\")] # [1.0, -1.0]\n",
        "    symbol2feats_sr[feats2symbol_sr[feat_bundle]] = these_feats # Maps \"Y IY0\" -> [1.0, 1.0]\n",
        "\n",
        "  max_len = max(syll_lengths)\n",
        "  X_list = []\n",
        "  Y_list = []\n",
        "  padding_strs = []\n",
        "  for word_index, syll_length in enumerate(syll_lengths):\n",
        "    padding = \" \".join([\"_\"]*(max_len-syll_length))\n",
        "    this_ur = UR_strings[word_index]+\" \"+padding # Singular form + padding as string\n",
        "    padding_strs.append(this_ur)\n",
        "    this_sr = SR_strings[word_index][-5:] # Suffix as string\n",
        "\n",
        "    #Fix some errors in data files:\n",
        "    this_ur = sub(\" J \", \" Y \", this_ur)\n",
        "    this_ur = sub(\" C \", \" CH \", this_ur)\n",
        "\n",
        "    X_list.append([symbol2feats_ur[seg] for seg in this_ur.split(\" \") if seg != \"\"])\n",
        "    #X_list.append([symbol2feats_ur[sub(\"\\d\", \"\", seg)] for seg in this_ur.split(\" \") if seg != \"\"])\n",
        "    Y_list.append([symbol2feats_sr[this_sr]])\n",
        "\n",
        "  X = np.array(X_list)\n",
        "  Y = np.array(Y_list)\n",
        "\n",
        "  print(f\"The shape of X is: {X.shape}\")\n",
        "  print(f\"The shape of Y is: {Y.shape}\")\n",
        "\n",
        "  return X, Y\n",
        "\n",
        "def get_accuracies(corr_out, pred_out):\n",
        "  accs_by_word = []\n",
        "  for corr_word, pred_word in zip(corr_out, pred_out):\n",
        "    this_acc = 1.0\n",
        "    for corr_seg, pred_seg in zip(corr_word, pred_word):\n",
        "      for corr_feat, pred_feat in zip(corr_seg, pred_seg):\n",
        "        if corr_feat < 0.0 and (pred_feat >= 0.0):\n",
        "          this_acc = 0.0\n",
        "          break\n",
        "        elif corr_feat > 0.0 and pred_feat <= 0.0:\n",
        "          this_acc = 0.0\n",
        "          break\n",
        "      if this_acc == 0.0:\n",
        "        break\n",
        "    accs_by_word.append(this_acc)\n",
        "  return accs_by_word\n",
        "\n",
        "def get_test_results (test_preds):\n",
        "    results = []\n",
        "    for word in test_preds:\n",
        "      for seg in word:\n",
        "        feat_list = []\n",
        "        for feat in seg:\n",
        "          if feat < 0.0:\n",
        "            feat_list.append(\"-1\")\n",
        "          elif feat > 0.0:\n",
        "            feat_list.append(\"1\")\n",
        "          else:\n",
        "            raise Exception()\n",
        "      feat_string = \",\".join(feat_list)\n",
        "      suff = feats2symbol_sr[feat_string]\n",
        "      results.append(suff)\n",
        "    return results\n",
        "\n",
        "def get_model(use_att=False):\n",
        "  num_encoder_features = len(list(symbol2feats_ur.values())[0]) # 19\n",
        "  num_decoder_features = len(list(feats2symbol_sr.keys())[0].split(\",\")) # 2\n",
        "\n",
        "  # Define an input sequence and process it.\n",
        "  encoder_inputs = keras.Input(shape=(None, num_encoder_features))\n",
        "  encoder = keras.layers.LSTM(latent_dim, return_state=True)\n",
        "  encoder_outputs, state_h, state_c = encoder(encoder_inputs)\n",
        "\n",
        "  # We discard `encoder_outputs` and only keep the states.\n",
        "  encoder_states = [state_h, state_c]\n",
        "\n",
        "  # Set up the decoder, using `encoder_states` as initial state.\n",
        "  decoder_inputs = keras.Input(shape=(None, num_decoder_features))\n",
        "\n",
        "  # We set up our decoder to return full output sequences,\n",
        "  # and to return internal states as well. We don't use the\n",
        "  # return states in the training model, but we will use them in inference.\n",
        "  decoder_lstm = keras.layers.LSTM(latent_dim, return_sequences=True, return_state=True)\n",
        "  decoder_outputs, _, _ = decoder_lstm(decoder_inputs, initial_state=encoder_states)\n",
        "  decoder_dense = keras.layers.Dense(num_decoder_features, activation=\"tanh\")\n",
        "\n",
        "  if use_att: #Are we including attention in our model?\n",
        "    attention = keras.layers.Attention()\n",
        "    attention_outputs = attention([decoder_outputs, encoder_outputs])\n",
        "\n",
        "    concatenate = keras.layers.Concatenate(axis=-1)\n",
        "    decoder_concat_input = concatenate([decoder_outputs, attention_outputs])\n",
        "    decoder_outputs = decoder_dense(decoder_concat_input)\n",
        "  else:\n",
        "    decoder_outputs = decoder_dense(decoder_outputs)\n",
        "\n",
        "  # Define the model that will turn\n",
        "  # `encoder_input_data` & `decoder_input_data` into `decoder_target_data`\n",
        "  model = keras.Model([encoder_inputs, decoder_inputs], decoder_outputs)\n",
        "  return model"
      ]
    },
    {
      "cell_type": "markdown",
      "metadata": {
        "id": "yr2Kb-UrPHCt"
      },
      "source": [
        "Running the actual simulations (one for each repetition in each condition):"
      ]
    },
    {
      "cell_type": "code",
      "execution_count": 12,
      "metadata": {
        "id": "6rXg_iVV3xRx"
      },
      "outputs": [
        {
          "name": "stdout",
          "output_type": "stream",
          "text": [
            "The shape of X is: (1188, 5, 19)\n",
            "The shape of Y is: (1188, 1, 2)\n",
            "Rep:  0 , Set: equalFreq\n",
            "Num encoder features: 19\n",
            "Num decoder features: 2\n"
          ]
        }
      ],
      "source": [
        "allLosses = []\n",
        "allAccs = []\n",
        "for my_set in stim_sets:\n",
        "  #Load the training data:\n",
        "  URs, SRs, Ls = get_strings(my_set+\"_train.txt\")\n",
        "  X, Y = get_arrays(URs, SRs, Ls)\n",
        "\n",
        "  for rep in range(reps):\n",
        "    print(\"Rep: \", rep, \", Set:\", my_set)\n",
        "\n",
        "    #Build the model for this repetition:\n",
        "    model = get_model(attention)\n",
        "\n",
        "    my_opt = keras.optimizers.RMSprop(learning_rate=lr)\n",
        "    model.compile(\n",
        "        optimizer=my_opt, loss=\"mean_squared_error\", metrics=[\"accuracy\"]\n",
        "    )\n",
        "    decoder_data = np.zeros(\n",
        "      (len(X), 1, len(list(feats2symbol_sr.keys())[0].split(\",\"))),\n",
        "      dtype=\"float32\",\n",
        "    )\n",
        "\n",
        "    hist = model.fit(\n",
        "        [X, decoder_data],\n",
        "        Y,\n",
        "        batch_size=batch_size,\n",
        "        epochs=epochs,\n",
        "        validation_split=0.,\n",
        "    )\n",
        "    # Save model\n",
        "    # model.save(\"/content/gdrive/My Drive/German-Plur-Sims/\"+\"Rep:\"+str(rep)+\",Set:\"+my_set+\",Attention:\"+str(attention)+\".keras\")\n",
        "    model.save(\"./LSTM_Run_Results/\"+\"Rep_\"+str(rep)+\"_Set_\"+my_set+\"_Attention_\"+str(attention)+\".keras\")\n",
        "\n",
        "    # Save the loss:\n",
        "    allLosses.append(hist.history[\"loss\"])\n",
        "    allAccs.append(hist.history[\"accuracy\"])\n",
        "\n",
        "\n",
        "    # Clear away backend and output:\n",
        "    backend.clear_session()\n",
        "    clear_output()\n"
      ]
    },
    {
      "cell_type": "markdown",
      "metadata": {
        "id": "3RkYr4ubPSzT"
      },
      "source": [
        "Plot learning curves (averaged over all runs and conditions):"
      ]
    },
    {
      "cell_type": "code",
      "execution_count": 16,
      "metadata": {
        "id": "nKdeBCjiHn2c"
      },
      "outputs": [
        {
          "data": {
            "image/png": "[encoded data removed]",
            "text/plain": [
              "<Figure size 640x480 with 1 Axes>"
            ]
          },
          "metadata": {},
          "output_type": "display_data"
        }
      ],
      "source": [
        "#Plot average loss (for checking lr, etc.)\n",
        "av_curve = np.mean(allLosses, axis=0)\n",
        "plot(av_curve)\n",
        "xlabel(\"Epoch\")\n",
        "ylabel(\"Loss (MSE)\")\n",
        "show()"
      ]
    },
    {
      "cell_type": "code",
      "execution_count": 17,
      "metadata": {
        "id": "zk_jKxNqMNCJ"
      },
      "outputs": [
        {
          "data": {
            "image/png": "[encoded data removed]",
            "text/plain": [
              "<Figure size 640x480 with 1 Axes>"
            ]
          },
          "metadata": {},
          "output_type": "display_data"
        }
      ],
      "source": [
        "#Plot average accuracy on training (for checking lr, etc.)\n",
        "av_curve = np.mean(allAccs, axis=0)\n",
        "plot(av_curve)\n",
        "xlabel(\"Epoch\")\n",
        "ylabel(\"Accuracy\")\n",
        "show()"
      ]
    },
    {
      "cell_type": "markdown",
      "metadata": {
        "id": "BNioS3o_PYTG"
      },
      "source": [
        "Load models and test them:"
      ]
    },
    {
      "cell_type": "code",
      "execution_count": 19,
      "metadata": {
        "id": "gLpMY2et05bp"
      },
      "outputs": [
        {
          "name": "stdout",
          "output_type": "stream",
          "text": [
            "equalFreq\n",
            "\ttest_Mutants\n",
            "\t\tRep:  0\n",
            "\u001b[1m3/3\u001b[0m \u001b[32m━━━━━━━━━━━━━━━━━━━━\u001b[0m\u001b[37m\u001b[0m \u001b[1m0s\u001b[0m 87ms/step\n",
            "\t\tRep:  1\n",
            "\u001b[1m3/3\u001b[0m \u001b[32m━━━━━━━━━━━━━━━━━━━━\u001b[0m\u001b[37m\u001b[0m \u001b[1m0s\u001b[0m 65ms/step\n",
            "\t\tRep:  2\n",
            "WARNING:tensorflow:5 out of the last 7 calls to <function TensorFlowTrainer.make_predict_function.<locals>.one_step_on_data_distributed at 0x34d22c280> triggered tf.function retracing. Tracing is expensive and the excessive number of tracings could be due to (1) creating @tf.function repeatedly in a loop, (2) passing tensors with different shapes, (3) passing Python objects instead of tensors. For (1), please define your @tf.function outside of the loop. For (2), @tf.function has reduce_retracing=True option that can avoid unnecessary retracing. For (3), please refer to https://www.tensorflow.org/guide/function#controlling_retracing and https://www.tensorflow.org/api_docs/python/tf/function for  more details.\n",
            "\u001b[1m1/3\u001b[0m \u001b[32m━━━━━━\u001b[0m\u001b[37m━━━━━━━━━━━━━━\u001b[0m \u001b[1m0s\u001b[0m 131ms/stepWARNING:tensorflow:6 out of the last 9 calls to <function TensorFlowTrainer.make_predict_function.<locals>.one_step_on_data_distributed at 0x34d22c280> triggered tf.function retracing. Tracing is expensive and the excessive number of tracings could be due to (1) creating @tf.function repeatedly in a loop, (2) passing tensors with different shapes, (3) passing Python objects instead of tensors. For (1), please define your @tf.function outside of the loop. For (2), @tf.function has reduce_retracing=True option that can avoid unnecessary retracing. For (3), please refer to https://www.tensorflow.org/guide/function#controlling_retracing and https://www.tensorflow.org/api_docs/python/tf/function for  more details.\n",
            "\u001b[1m3/3\u001b[0m \u001b[32m━━━━━━━━━━━━━━━━━━━━\u001b[0m\u001b[37m\u001b[0m \u001b[1m0s\u001b[0m 67ms/step\n",
            "\t\tRep:  3\n",
            "\u001b[1m3/3\u001b[0m \u001b[32m━━━━━━━━━━━━━━━━━━━━\u001b[0m\u001b[37m\u001b[0m \u001b[1m0s\u001b[0m 75ms/step\n",
            "\t\tRep:  4\n",
            "\u001b[1m3/3\u001b[0m \u001b[32m━━━━━━━━━━━━━━━━━━━━\u001b[0m\u001b[37m\u001b[0m \u001b[1m0s\u001b[0m 64ms/step\n",
            "\t\tRep:  5\n",
            "\u001b[1m3/3\u001b[0m \u001b[32m━━━━━━━━━━━━━━━━━━━━\u001b[0m\u001b[37m\u001b[0m \u001b[1m0s\u001b[0m 65ms/step\n",
            "\t\tRep:  6\n",
            "\u001b[1m3/3\u001b[0m \u001b[32m━━━━━━━━━━━━━━━━━━━━\u001b[0m\u001b[37m\u001b[0m \u001b[1m0s\u001b[0m 75ms/step\n",
            "\t\tRep:  7\n",
            "\u001b[1m3/3\u001b[0m \u001b[32m━━━━━━━━━━━━━━━━━━━━\u001b[0m\u001b[37m\u001b[0m \u001b[1m0s\u001b[0m 64ms/step\n",
            "\t\tRep:  8\n",
            "\u001b[1m3/3\u001b[0m \u001b[32m━━━━━━━━━━━━━━━━━━━━\u001b[0m\u001b[37m\u001b[0m \u001b[1m0s\u001b[0m 75ms/step\n",
            "\t\tRep:  9\n",
            "\u001b[1m3/3\u001b[0m \u001b[32m━━━━━━━━━━━━━━━━━━━━\u001b[0m\u001b[37m\u001b[0m \u001b[1m0s\u001b[0m 75ms/step\n",
            "\ttestNewTemplates\n",
            "\t\tRep:  0\n",
            "\u001b[1m4/4\u001b[0m \u001b[32m━━━━━━━━━━━━━━━━━━━━\u001b[0m\u001b[37m\u001b[0m \u001b[1m0s\u001b[0m 51ms/step\n",
            "\t\tRep:  1\n",
            "\u001b[1m4/4\u001b[0m \u001b[32m━━━━━━━━━━━━━━━━━━━━\u001b[0m\u001b[37m\u001b[0m \u001b[1m0s\u001b[0m 50ms/step\n",
            "\t\tRep:  2\n",
            "\u001b[1m4/4\u001b[0m \u001b[32m━━━━━━━━━━━━━━━━━━━━\u001b[0m\u001b[37m\u001b[0m \u001b[1m0s\u001b[0m 51ms/step\n",
            "\t\tRep:  3\n",
            "\u001b[1m4/4\u001b[0m \u001b[32m━━━━━━━━━━━━━━━━━━━━\u001b[0m\u001b[37m\u001b[0m \u001b[1m0s\u001b[0m 51ms/step\n",
            "\t\tRep:  4\n",
            "\u001b[1m4/4\u001b[0m \u001b[32m━━━━━━━━━━━━━━━━━━━━\u001b[0m\u001b[37m\u001b[0m \u001b[1m0s\u001b[0m 51ms/step\n",
            "\t\tRep:  5\n",
            "\u001b[1m4/4\u001b[0m \u001b[32m━━━━━━━━━━━━━━━━━━━━\u001b[0m\u001b[37m\u001b[0m \u001b[1m0s\u001b[0m 54ms/step\n",
            "\t\tRep:  6\n",
            "\u001b[1m4/4\u001b[0m \u001b[32m━━━━━━━━━━━━━━━━━━━━\u001b[0m\u001b[37m\u001b[0m \u001b[1m0s\u001b[0m 51ms/step\n",
            "\t\tRep:  7\n",
            "\u001b[1m4/4\u001b[0m \u001b[32m━━━━━━━━━━━━━━━━━━━━\u001b[0m\u001b[37m\u001b[0m \u001b[1m0s\u001b[0m 54ms/step\n",
            "\t\tRep:  8\n",
            "\u001b[1m4/4\u001b[0m \u001b[32m━━━━━━━━━━━━━━━━━━━━\u001b[0m\u001b[37m\u001b[0m \u001b[1m0s\u001b[0m 51ms/step\n",
            "\t\tRep:  9\n",
            "\u001b[1m4/4\u001b[0m \u001b[32m━━━━━━━━━━━━━━━━━━━━\u001b[0m\u001b[37m\u001b[0m \u001b[1m0s\u001b[0m 51ms/step\n",
            "\ttest_L\n",
            "\t\tRep:  0\n",
            "\u001b[1m3/3\u001b[0m \u001b[32m━━━━━━━━━━━━━━━━━━━━\u001b[0m\u001b[37m\u001b[0m \u001b[1m0s\u001b[0m 4ms/step  \n",
            "\t\tRep:  1\n",
            "\u001b[1m3/3\u001b[0m \u001b[32m━━━━━━━━━━━━━━━━━━━━\u001b[0m\u001b[37m\u001b[0m \u001b[1m0s\u001b[0m 3ms/step  \n",
            "\t\tRep:  2\n",
            "\u001b[1m3/3\u001b[0m \u001b[32m━━━━━━━━━━━━━━━━━━━━\u001b[0m\u001b[37m\u001b[0m \u001b[1m0s\u001b[0m 2ms/step  \n",
            "\t\tRep:  3\n",
            "\u001b[1m3/3\u001b[0m \u001b[32m━━━━━━━━━━━━━━━━━━━━\u001b[0m\u001b[37m\u001b[0m \u001b[1m0s\u001b[0m 3ms/step  \n",
            "\t\tRep:  4\n",
            "\u001b[1m3/3\u001b[0m \u001b[32m━━━━━━━━━━━━━━━━━━━━\u001b[0m\u001b[37m\u001b[0m \u001b[1m0s\u001b[0m 2ms/step  \n",
            "\t\tRep:  5\n",
            "\u001b[1m3/3\u001b[0m \u001b[32m━━━━━━━━━━━━━━━━━━━━\u001b[0m\u001b[37m\u001b[0m \u001b[1m0s\u001b[0m 3ms/step  \n",
            "\t\tRep:  6\n",
            "\u001b[1m3/3\u001b[0m \u001b[32m━━━━━━━━━━━━━━━━━━━━\u001b[0m\u001b[37m\u001b[0m \u001b[1m0s\u001b[0m 4ms/step  \n",
            "\t\tRep:  7\n",
            "\u001b[1m3/3\u001b[0m \u001b[32m━━━━━━━━━━━━━━━━━━━━\u001b[0m\u001b[37m\u001b[0m \u001b[1m0s\u001b[0m 3ms/step  \n",
            "\t\tRep:  8\n",
            "\u001b[1m3/3\u001b[0m \u001b[32m━━━━━━━━━━━━━━━━━━━━\u001b[0m\u001b[37m\u001b[0m \u001b[1m0s\u001b[0m 4ms/step  \n",
            "\t\tRep:  9\n",
            "\u001b[1m3/3\u001b[0m \u001b[32m━━━━━━━━━━━━━━━━━━━━\u001b[0m\u001b[37m\u001b[0m \u001b[1m0s\u001b[0m 3ms/step  \n",
            "\ttest\n",
            "\t\tRep:  0\n",
            "\u001b[1m9/9\u001b[0m \u001b[32m━━━━━━━━━━━━━━━━━━━━\u001b[0m\u001b[37m\u001b[0m \u001b[1m0s\u001b[0m 2ms/step  \n",
            "\t\tRep:  1\n",
            "\u001b[1m9/9\u001b[0m \u001b[32m━━━━━━━━━━━━━━━━━━━━\u001b[0m\u001b[37m\u001b[0m \u001b[1m0s\u001b[0m 3ms/step  \n",
            "\t\tRep:  2\n",
            "\u001b[1m9/9\u001b[0m \u001b[32m━━━━━━━━━━━━━━━━━━━━\u001b[0m\u001b[37m\u001b[0m \u001b[1m0s\u001b[0m 2ms/step  \n",
            "\t\tRep:  3\n",
            "\u001b[1m9/9\u001b[0m \u001b[32m━━━━━━━━━━━━━━━━━━━━\u001b[0m\u001b[37m\u001b[0m \u001b[1m0s\u001b[0m 2ms/step  \n",
            "\t\tRep:  4\n",
            "\u001b[1m9/9\u001b[0m \u001b[32m━━━━━━━━━━━━━━━━━━━━\u001b[0m\u001b[37m\u001b[0m \u001b[1m0s\u001b[0m 2ms/step  \n",
            "\t\tRep:  5\n",
            "\u001b[1m9/9\u001b[0m \u001b[32m━━━━━━━━━━━━━━━━━━━━\u001b[0m\u001b[37m\u001b[0m \u001b[1m0s\u001b[0m 3ms/step  \n",
            "\t\tRep:  6\n",
            "\u001b[1m9/9\u001b[0m \u001b[32m━━━━━━━━━━━━━━━━━━━━\u001b[0m\u001b[37m\u001b[0m \u001b[1m0s\u001b[0m 3ms/step  \n",
            "\t\tRep:  7\n",
            "\u001b[1m9/9\u001b[0m \u001b[32m━━━━━━━━━━━━━━━━━━━━\u001b[0m\u001b[37m\u001b[0m \u001b[1m0s\u001b[0m 3ms/step  \n",
            "\t\tRep:  8\n",
            "\u001b[1m9/9\u001b[0m \u001b[32m━━━━━━━━━━━━━━━━━━━━\u001b[0m\u001b[37m\u001b[0m \u001b[1m0s\u001b[0m 3ms/step  \n",
            "\t\tRep:  9\n",
            "\u001b[1m9/9\u001b[0m \u001b[32m━━━━━━━━━━━━━━━━━━━━\u001b[0m\u001b[37m\u001b[0m \u001b[1m0s\u001b[0m 3ms/step  \n"
          ]
        }
      ],
      "source": [
        "output_file = open(\"./LSTM_Run_Results/minDef_output.csv\", \"w\")\n",
        "output_file.write(\"Set,TestSet,Rep,Input,CorrOutput,PredOutput\\n\")\n",
        "for my_set in stim_sets:\n",
        "  print(my_set)\n",
        "\n",
        "  for ts in test_sets:\n",
        "    print(\"\\t\"+ts)\n",
        "\n",
        "    #Load the testing data:\n",
        "    test_URs, test_SRs, test_Ls = get_strings(my_set+\"_\"+ts+\".txt\")\n",
        "    test_X, test_Y = get_arrays(test_URs, test_SRs, test_Ls)\n",
        "\n",
        "    for rep in range(reps):\n",
        "      print(\"\\t\\tRep: \", rep)\n",
        "\n",
        "      #Load a previous model:\n",
        "      model_name = \"Rep_\"+str(rep)+\"_Set_\"+my_set+\"_Attention_\"+str(attention)\n",
        "      model = keras.models.load_model(\"./LSTM_Run_Results/\"+model_name+\".keras\")\n",
        "      decoder_data = np.zeros(\n",
        "        (len(test_X), 1, len(list(feats2symbol_sr.keys())[0].split(\",\"))),\n",
        "        dtype=\"float32\",\n",
        "      )\n",
        "\n",
        "      #Test the model:\n",
        "      preds = get_test_results(model.predict([test_X, decoder_data]))\n",
        "\n",
        "      #Record everything:\n",
        "      for i, co, po in zip(test_URs, test_SRs, preds):\n",
        "        output_file.write(\",\".join([my_set, ts, str(rep), i, co, po])+\"\\n\")\n",
        "\n",
        "      # Clear away backend and output:\n",
        "      backend.clear_session()\n",
        "      #clear_output()\n",
        "\n",
        "output_file.close()"
      ]
    }
  ],
  "metadata": {
    "colab": {
      "provenance": []
    },
    "kernelspec": {
      "display_name": "Python 3",
      "name": "python3"
    },
    "language_info": {
      "codemirror_mode": {
        "name": "ipython",
        "version": 3
      },
      "file_extension": ".py",
      "mimetype": "text/x-python",
      "name": "python",
      "nbconvert_exporter": "python",
      "pygments_lexer": "ipython3",
      "version": "3.10.13"
    }
  },
  "nbformat": 4,
  "nbformat_minor": 0
}
