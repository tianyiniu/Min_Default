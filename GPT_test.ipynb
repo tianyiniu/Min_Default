{
 "cells": [
  {
   "cell_type": "code",
   "execution_count": 1,
   "metadata": {},
   "outputs": [
    {
     "name": "stderr",
     "output_type": "stream",
     "text": [
      "c:\\Users\\tniu\\AppData\\Local\\miniconda3\\envs\\llm-base\\lib\\site-packages\\tqdm\\auto.py:21: TqdmWarning: IProgress not found. Please update jupyter and ipywidgets. See https://ipywidgets.readthedocs.io/en/stable/user_install.html\n",
      "  from .autonotebook import tqdm as notebook_tqdm\n"
     ]
    },
    {
     "ename": "NameError",
     "evalue": "name 'np' is not defined",
     "output_type": "error",
     "traceback": [
      "\u001b[1;31m---------------------------------------------------------------------------\u001b[0m",
      "\u001b[1;31mNameError\u001b[0m                                 Traceback (most recent call last)",
      "Cell \u001b[1;32mIn[1], line 6\u001b[0m\n\u001b[0;32m      3\u001b[0m \u001b[38;5;28;01mfrom\u001b[39;00m \u001b[38;5;21;01mtransformers\u001b[39;00m \u001b[38;5;28;01mimport\u001b[39;00m GPT2Model, GPT2Config\n\u001b[0;32m      5\u001b[0m \u001b[38;5;66;03m# Load the predetermined embeddings matrix (e.g., from a numpy file)\u001b[39;00m\n\u001b[1;32m----> 6\u001b[0m pretrained_embeddings \u001b[38;5;241m=\u001b[39m \u001b[43mnp\u001b[49m\u001b[38;5;241m.\u001b[39mload(\u001b[38;5;124m'\u001b[39m\u001b[38;5;124mpath_to_pretrained_embeddings.npy\u001b[39m\u001b[38;5;124m'\u001b[39m)  \u001b[38;5;66;03m# Shape should be (num_features, embedding_dim)\u001b[39;00m\n\u001b[0;32m      8\u001b[0m \u001b[38;5;66;03m# Convert to PyTorch tensor\u001b[39;00m\n\u001b[0;32m      9\u001b[0m pretrained_embeddings \u001b[38;5;241m=\u001b[39m torch\u001b[38;5;241m.\u001b[39mtensor(pretrained_embeddings, dtype\u001b[38;5;241m=\u001b[39mtorch\u001b[38;5;241m.\u001b[39mfloat32)\n",
      "\u001b[1;31mNameError\u001b[0m: name 'np' is not defined"
     ]
    }
   ],
   "source": [
    "import torch\n",
    "from torch import nn\n",
    "from transformers import GPT2Model, GPT2Config\n",
    "\n",
    "# Load the predetermined embeddings matrix (e.g., from a numpy file)\n",
    "pretrained_embeddings = np.load('path_to_pretrained_embeddings.npy')  # Shape should be (num_features, embedding_dim)\n",
    "\n",
    "# Convert to PyTorch tensor\n",
    "pretrained_embeddings = torch.tensor(pretrained_embeddings, dtype=torch.float32)\n"
   ]
  },
  {
   "cell_type": "code",
   "execution_count": null,
   "metadata": {},
   "outputs": [],
   "source": [
    "class GPT2WithPretrainedPhoneticFeatures(nn.Module):\n",
    "    def __init__(self, gpt2_model, pretrained_embeddings):\n",
    "        super(GPT2WithPretrainedPhoneticFeatures, self).__init__()\n",
    "        self.gpt2_model = gpt2_model\n",
    "        \n",
    "        # Create an embedding layer with pretrained weights\n",
    "        num_features, embedding_dim = pretrained_embeddings.shape\n",
    "        self.phonetic_embedding = nn.Embedding.from_pretrained(pretrained_embeddings, freeze=True)\n",
    "        \n",
    "        # Verify the embedding dimension matches the model's input size\n",
    "        assert embedding_dim == config.n_embd, \"Embedding dimension must match the model's embedding dimension.\"\n",
    "        \n",
    "        # Classifier to classify each token into one of three classes\n",
    "        self.classifier = nn.Linear(config.n_embd, 3)  # 3 classes\n",
    "        self.softmax = nn.Softmax(dim=-1)\n",
    "\n",
    "    def forward(self, phonetic_inputs):\n",
    "        # Apply the embedding layer to convert phonetic features to embeddings\n",
    "        embedded_inputs = self.phonetic_embedding(phonetic_inputs)\n",
    "        # Pass the embedded inputs to the GPT-2 model\n",
    "        gpt_outputs = self.gpt2_model(inputs_embeds=embedded_inputs)\n",
    "        # Apply the classifier to each output token\n",
    "        logits = self.classifier(gpt_outputs.last_hidden_state)\n",
    "        # Apply softmax to get probabilities\n",
    "        probabilities = self.softmax(logits)\n",
    "        return probabilities\n",
    "\n",
    "# Load the pre-trained GPT model\n",
    "gpt2_model = GPT2Model(config)\n",
    "# Initialize the modified GPT-2 model with pretrained embeddings\n",
    "modified_gpt2 = GPT2WithPretrainedPhoneticFeatures(gpt2_model, pretrained_embeddings)\n"
   ]
  },
  {
   "cell_type": "code",
   "execution_count": null,
   "metadata": {},
   "outputs": [],
   "source": [
    "import numpy as np\n",
    "\n",
    "# Example data: phonetic feature indices (batch_size, seq_length) and labels (batch_size, seq_length)\n",
    "phonetic_features_indices = np.random.randint(0, num_features, (32, 10))  # Example shape (32 samples, 10 words each)\n",
    "labels = np.random.randint(0, 3, (32, 10))  # Example shape (32 samples, 10 words each), labels in {0, 1, 2}\n",
    "\n",
    "# Convert to PyTorch tensors\n",
    "phonetic_features_indices = torch.tensor(phonetic_features_indices, dtype=torch.long)\n",
    "labels = torch.tensor(labels, dtype=torch.long)\n"
   ]
  },
  {
   "cell_type": "code",
   "execution_count": null,
   "metadata": {},
   "outputs": [],
   "source": [
    "from torch.optim import Adam\n",
    "from torch.nn import CrossEntropyLoss\n",
    "\n",
    "# Define the optimizer and loss function\n",
    "optimizer = Adam(modified_gpt2.parameters(), lr=5e-5)\n",
    "criterion = CrossEntropyLoss()\n",
    "\n",
    "# Training loop\n",
    "epochs = 10  # Number of epochs\n",
    "\n",
    "for epoch in range(epochs):\n",
    "    modified_gpt2.train()\n",
    "    optimizer.zero_grad()\n",
    "\n",
    "    # Forward pass\n",
    "    outputs = modified_gpt2(phonetic_features_indices)\n",
    "\n",
    "    # Compute the loss\n",
    "    # Note: outputs is (batch_size, seq_length, num_classes), labels is (batch_size, seq_length)\n",
    "    loss = criterion(outputs.view(-1, 3), labels.view(-1))\n",
    "\n",
    "    # Backward pass\n",
    "    loss.backward()\n",
    "    optimizer.step()\n",
    "\n",
    "    print(f\"Epoch {epoch + 1}, Loss: {loss.item()}\")\n",
    "\n",
    "# Save the trained model\n",
    "torch.save(modified_gpt2.state_dict(), 'modified_gpt2_with_pretrained_phonetic_embeddings.pt')\n"
   ]
  }
 ],
 "metadata": {
  "kernelspec": {
   "display_name": "llm-base",
   "language": "python",
   "name": "python3"
  },
  "language_info": {
   "codemirror_mode": {
    "name": "ipython",
    "version": 3
   },
   "file_extension": ".py",
   "mimetype": "text/x-python",
   "name": "python",
   "nbconvert_exporter": "python",
   "pygments_lexer": "ipython3",
   "version": "3.10.12"
  }
 },
 "nbformat": 4,
 "nbformat_minor": 2
}
